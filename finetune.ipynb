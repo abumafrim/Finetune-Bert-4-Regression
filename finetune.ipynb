{
 "cells": [
  {
   "cell_type": "code",
   "execution_count": null,
   "metadata": {},
   "outputs": [],
   "source": [
    "!pip install requirements.txt"
   ]
  },
  {
   "cell_type": "code",
   "execution_count": null,
   "metadata": {},
   "outputs": [],
   "source": [
    "!python finetune.py \\\n",
    "  --base_model 'google-bert/bert-base-multilingual-cased' \\\n",
    "  --output_dir 'models/hausa-mbert-fine-tuned-regression' \\\n",
    "  --dataset 'HausaNLP/AfriSenti-Twitter' \\\n",
    "  --language 'hau' \\\n",
    "  --held_out_percentage 0.3 \\\n",
    "  --epochs 20 \\\n",
    "  --batch_size 32 \\\n",
    "  --max_length 256 \\\n",
    "  --learning_rate 2e-5 \\\n",
    "  --do_train \\\n",
    "  --do_eval \\\n",
    "  --do_predict \\\n",
    "  --do_predict_held_out"
   ]
  }
 ],
 "metadata": {
  "language_info": {
   "name": "python"
  }
 },
 "nbformat": 4,
 "nbformat_minor": 2
}
